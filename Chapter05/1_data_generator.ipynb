{
 "cells": [
  {
   "cell_type": "markdown",
   "metadata": {},
   "source": [
    "# Generate data from existing California Housing dataset"
   ]
  },
  {
   "cell_type": "markdown",
   "metadata": {},
   "source": [
    "## Download California Housing dataset and upload to Amazon S3\n",
    "\n",
    "We use the California housing dataset.\n",
    "\n",
    "More info on the dataset:\n",
    "\n",
    "This dataset was obtained from the `StatLib` repository. http://lib.stat.cmu.edu/datasets/\n",
    "\n",
    "The target variable is the median house value for California districts.\n",
    "\n",
    "This dataset was derived from the 1990 U.S. census, using one row per census block group. A block group is the smallest geographical unit for which the U.S. Census Bureau publishes sample data (a block group typically has a population of 600 to 3,000 people)."
   ]
  },
  {
   "cell_type": "code",
   "execution_count": 2,
   "metadata": {
    "scrolled": true
   },
   "outputs": [
    {
     "name": "stdout",
     "output_type": "stream",
     "text": [
      "Requirement already satisfied: sagemaker>=2.51.0 in /opt/conda/lib/python3.6/site-packages (2.72.0)\n",
      "Requirement already satisfied: numpy>=1.9.0 in /opt/conda/lib/python3.6/site-packages (from sagemaker>=2.51.0) (1.19.1)\n",
      "Requirement already satisfied: protobuf>=3.1 in /opt/conda/lib/python3.6/site-packages (from sagemaker>=2.51.0) (3.19.1)\n",
      "Requirement already satisfied: boto3>=1.20.18 in /opt/conda/lib/python3.6/site-packages (from sagemaker>=2.51.0) (1.20.24)\n",
      "Requirement already satisfied: pathos in /opt/conda/lib/python3.6/site-packages (from sagemaker>=2.51.0) (0.2.8)\n",
      "Requirement already satisfied: attrs in /opt/conda/lib/python3.6/site-packages (from sagemaker>=2.51.0) (21.2.0)\n",
      "Requirement already satisfied: smdebug-rulesconfig==1.0.1 in /opt/conda/lib/python3.6/site-packages (from sagemaker>=2.51.0) (1.0.1)\n",
      "Requirement already satisfied: importlib-metadata>=1.4.0 in /opt/conda/lib/python3.6/site-packages (from sagemaker>=2.51.0) (4.8.3)\n",
      "Requirement already satisfied: google-pasta in /opt/conda/lib/python3.6/site-packages (from sagemaker>=2.51.0) (0.2.0)\n",
      "Requirement already satisfied: pandas in /opt/conda/lib/python3.6/site-packages (from sagemaker>=2.51.0) (1.1.5)\n",
      "Requirement already satisfied: protobuf3-to-dict>=0.1.5 in /opt/conda/lib/python3.6/site-packages (from sagemaker>=2.51.0) (0.1.5)\n",
      "Requirement already satisfied: packaging>=20.0 in /opt/conda/lib/python3.6/site-packages (from sagemaker>=2.51.0) (21.3)\n",
      "Requirement already satisfied: jmespath<1.0.0,>=0.7.1 in /opt/conda/lib/python3.6/site-packages (from boto3>=1.20.18->sagemaker>=2.51.0) (0.10.0)\n",
      "Requirement already satisfied: s3transfer<0.6.0,>=0.5.0 in /opt/conda/lib/python3.6/site-packages (from boto3>=1.20.18->sagemaker>=2.51.0) (0.5.0)\n",
      "Requirement already satisfied: botocore<1.24.0,>=1.23.24 in /opt/conda/lib/python3.6/site-packages (from boto3>=1.20.18->sagemaker>=2.51.0) (1.23.24)\n",
      "Requirement already satisfied: typing-extensions>=3.6.4 in /opt/conda/lib/python3.6/site-packages (from importlib-metadata>=1.4.0->sagemaker>=2.51.0) (3.10.0.2)\n",
      "Requirement already satisfied: zipp>=0.5 in /opt/conda/lib/python3.6/site-packages (from importlib-metadata>=1.4.0->sagemaker>=2.51.0) (3.6.0)\n",
      "Requirement already satisfied: pyparsing!=3.0.5,>=2.0.2 in /opt/conda/lib/python3.6/site-packages (from packaging>=20.0->sagemaker>=2.51.0) (3.0.6)\n",
      "Requirement already satisfied: six in /opt/conda/lib/python3.6/site-packages (from protobuf3-to-dict>=0.1.5->sagemaker>=2.51.0) (1.16.0)\n",
      "Requirement already satisfied: python-dateutil>=2.7.3 in /opt/conda/lib/python3.6/site-packages (from pandas->sagemaker>=2.51.0) (2.8.2)\n",
      "Requirement already satisfied: pytz>=2017.2 in /opt/conda/lib/python3.6/site-packages (from pandas->sagemaker>=2.51.0) (2021.3)\n",
      "Requirement already satisfied: ppft>=1.6.6.4 in /opt/conda/lib/python3.6/site-packages (from pathos->sagemaker>=2.51.0) (1.6.6.4)\n",
      "Requirement already satisfied: multiprocess>=0.70.12 in /opt/conda/lib/python3.6/site-packages (from pathos->sagemaker>=2.51.0) (0.70.12.2)\n",
      "Requirement already satisfied: dill>=0.3.4 in /opt/conda/lib/python3.6/site-packages (from pathos->sagemaker>=2.51.0) (0.3.4)\n",
      "Requirement already satisfied: pox>=0.3.0 in /opt/conda/lib/python3.6/site-packages (from pathos->sagemaker>=2.51.0) (0.3.0)\n",
      "Requirement already satisfied: urllib3<1.27,>=1.25.4 in /opt/conda/lib/python3.6/site-packages (from botocore<1.24.0,>=1.23.24->boto3>=1.20.18->sagemaker>=2.51.0) (1.26.6)\n",
      "\u001b[33mWARNING: Running pip as the 'root' user can result in broken permissions and conflicting behaviour with the system package manager. It is recommended to use a virtual environment instead: https://pip.pypa.io/warnings/venv\u001b[0m\n"
     ]
    }
   ],
   "source": [
    "import sys\n",
    "\n",
    "!{sys.executable} -m pip install \"sagemaker>=2.51.0\""
   ]
  },
  {
   "cell_type": "code",
   "execution_count": 3,
   "metadata": {},
   "outputs": [
    {
     "name": "stdout",
     "output_type": "stream",
     "text": [
      "\u001b[33mWARNING: Running pip as the 'root' user can result in broken permissions and conflicting behaviour with the system package manager. It is recommended to use a virtual environment instead: https://pip.pypa.io/warnings/venv\u001b[0m\n"
     ]
    }
   ],
   "source": [
    "# download scikit-learn version greater than 0.23\n",
    "import sys\n",
    "\n",
    "!{sys.executable} -m pip install --upgrade -q \"scikit-learn\"\n",
    "# !pip install --upgrade scikit-learn -q"
   ]
  },
  {
   "cell_type": "code",
   "execution_count": 4,
   "metadata": {
    "scrolled": true
   },
   "outputs": [
    {
     "name": "stdout",
     "output_type": "stream",
     "text": [
      "Collecting sdv\n",
      "  Using cached sdv-0.13.1-py2.py3-none-any.whl (93 kB)\n",
      "Requirement already satisfied: pandas<2,>=1.1.3 in /opt/conda/lib/python3.6/site-packages (from sdv) (1.1.5)\n",
      "Collecting Faker<10,>=3.0.0\n",
      "  Using cached Faker-9.9.1-py3-none-any.whl (1.2 MB)\n",
      "Collecting copulas<0.7,>=0.6.0\n",
      "  Using cached copulas-0.6.0-py2.py3-none-any.whl (50 kB)\n",
      "Collecting graphviz<1,>=0.13.2\n",
      "  Using cached graphviz-0.19.1-py3-none-any.whl (46 kB)\n",
      "Requirement already satisfied: numpy<1.20.0,>=1.18.0 in /opt/conda/lib/python3.6/site-packages (from sdv) (1.19.1)\n",
      "Collecting rdt<0.7,>=0.6.1\n",
      "  Using cached rdt-0.6.3-py2.py3-none-any.whl (45 kB)\n",
      "Requirement already satisfied: tqdm<5,>=4.15 in /opt/conda/lib/python3.6/site-packages (from sdv) (4.61.2)\n",
      "Collecting sdmetrics<0.5,>=0.4.1\n",
      "  Using cached sdmetrics-0.4.1-py2.py3-none-any.whl (97 kB)\n",
      "Collecting ctgan<0.6,>=0.5.0\n",
      "  Using cached ctgan-0.5.0-py2.py3-none-any.whl (21 kB)\n",
      "Collecting deepecho<0.4,>=0.3.0.post1\n",
      "  Using cached deepecho-0.3.0.post1-py2.py3-none-any.whl (26 kB)\n",
      "Requirement already satisfied: matplotlib<4,>=3.2.0 in /opt/conda/lib/python3.6/site-packages (from copulas<0.7,>=0.6.0->sdv) (3.3.4)\n",
      "Collecting scipy<2,>=1.5.4\n",
      "  Downloading scipy-1.5.4-cp36-cp36m-manylinux1_x86_64.whl (25.9 MB)\n",
      "     |████████████████████████████████| 25.9 MB 4.5 MB/s            \n",
      "\u001b[?25hRequirement already satisfied: packaging<22,>=20 in /opt/conda/lib/python3.6/site-packages (from ctgan<0.6,>=0.5.0->sdv) (21.3)\n",
      "Requirement already satisfied: torch<2,>=1.8.0 in /opt/conda/lib/python3.6/site-packages (from ctgan<0.6,>=0.5.0->sdv) (1.8.1)\n",
      "Requirement already satisfied: scikit-learn<2,>=0.24 in /opt/conda/lib/python3.6/site-packages (from ctgan<0.6,>=0.5.0->sdv) (0.24.2)\n",
      "Requirement already satisfied: torchvision<1,>=0.9.0 in /opt/conda/lib/python3.6/site-packages (from ctgan<0.6,>=0.5.0->sdv) (0.9.1)\n",
      "Requirement already satisfied: python-dateutil>=2.4 in /opt/conda/lib/python3.6/site-packages (from Faker<10,>=3.0.0->sdv) (2.8.2)\n",
      "Requirement already satisfied: typing-extensions>=3.10.0.2 in /opt/conda/lib/python3.6/site-packages (from Faker<10,>=3.0.0->sdv) (3.10.0.2)\n",
      "Collecting text-unidecode==1.3\n",
      "  Using cached text_unidecode-1.3-py2.py3-none-any.whl (78 kB)\n",
      "Requirement already satisfied: pytz>=2017.2 in /opt/conda/lib/python3.6/site-packages (from pandas<2,>=1.1.3->sdv) (2021.3)\n",
      "Requirement already satisfied: pyyaml<6,>=5.4.1 in /opt/conda/lib/python3.6/site-packages (from rdt<0.7,>=0.6.1->sdv) (5.4.1)\n",
      "Collecting psutil<6,>=5.7\n",
      "  Downloading psutil-5.9.0-cp36-cp36m-manylinux_2_12_x86_64.manylinux2010_x86_64.manylinux_2_17_x86_64.manylinux2014_x86_64.whl (279 kB)\n",
      "     |████████████████████████████████| 279 kB 78.9 MB/s            \n",
      "\u001b[?25hCollecting pyts<0.13.0,>=0.12.0\n",
      "  Using cached pyts-0.12.0-py3-none-any.whl (2.5 MB)\n",
      "Requirement already satisfied: cycler>=0.10 in /opt/conda/lib/python3.6/site-packages (from matplotlib<4,>=3.2.0->copulas<0.7,>=0.6.0->sdv) (0.11.0)\n",
      "Requirement already satisfied: kiwisolver>=1.0.1 in /opt/conda/lib/python3.6/site-packages (from matplotlib<4,>=3.2.0->copulas<0.7,>=0.6.0->sdv) (1.3.1)\n",
      "Requirement already satisfied: pyparsing!=2.0.4,!=2.1.2,!=2.1.6,>=2.0.3 in /opt/conda/lib/python3.6/site-packages (from matplotlib<4,>=3.2.0->copulas<0.7,>=0.6.0->sdv) (3.0.6)\n",
      "Requirement already satisfied: pillow>=6.2.0 in /opt/conda/lib/python3.6/site-packages (from matplotlib<4,>=3.2.0->copulas<0.7,>=0.6.0->sdv) (8.3.2)\n",
      "Requirement already satisfied: six>=1.5 in /opt/conda/lib/python3.6/site-packages (from python-dateutil>=2.4->Faker<10,>=3.0.0->sdv) (1.16.0)\n",
      "Requirement already satisfied: joblib>=0.12 in /opt/conda/lib/python3.6/site-packages (from pyts<0.13.0,>=0.12.0->sdmetrics<0.5,>=0.4.1->sdv) (1.0.1)\n",
      "Requirement already satisfied: numba>=0.48.0 in /opt/conda/lib/python3.6/site-packages (from pyts<0.13.0,>=0.12.0->sdmetrics<0.5,>=0.4.1->sdv) (0.53.1)\n",
      "Requirement already satisfied: threadpoolctl>=2.0.0 in /opt/conda/lib/python3.6/site-packages (from scikit-learn<2,>=0.24->ctgan<0.6,>=0.5.0->sdv) (2.2.0)\n",
      "Requirement already satisfied: dataclasses in /opt/conda/lib/python3.6/site-packages (from torch<2,>=1.8.0->ctgan<0.6,>=0.5.0->sdv) (0.8)\n",
      "Requirement already satisfied: setuptools in /opt/conda/lib/python3.6/site-packages (from numba>=0.48.0->pyts<0.13.0,>=0.12.0->sdmetrics<0.5,>=0.4.1->sdv) (59.3.0)\n",
      "Requirement already satisfied: llvmlite<0.37,>=0.36.0rc1 in /opt/conda/lib/python3.6/site-packages (from numba>=0.48.0->pyts<0.13.0,>=0.12.0->sdmetrics<0.5,>=0.4.1->sdv) (0.36.0)\n",
      "Installing collected packages: scipy, psutil, text-unidecode, rdt, pyts, copulas, sdmetrics, graphviz, Faker, deepecho, ctgan, sdv\n",
      "  Attempting uninstall: scipy\n",
      "    Found existing installation: scipy 1.2.2\n",
      "    Uninstalling scipy-1.2.2:\n",
      "      Successfully uninstalled scipy-1.2.2\n",
      "  Attempting uninstall: psutil\n",
      "    Found existing installation: psutil 5.6.7\n",
      "    Uninstalling psutil-5.6.7:\n",
      "      Successfully uninstalled psutil-5.6.7\n",
      "Successfully installed Faker-9.9.1 copulas-0.6.0 ctgan-0.5.0 deepecho-0.3.0.post1 graphviz-0.19.1 psutil-5.9.0 pyts-0.12.0 rdt-0.6.3 scipy-1.5.4 sdmetrics-0.4.1 sdv-0.13.1 text-unidecode-1.3\n",
      "\u001b[33mWARNING: Running pip as the 'root' user can result in broken permissions and conflicting behaviour with the system package manager. It is recommended to use a virtual environment instead: https://pip.pypa.io/warnings/venv\u001b[0m\n"
     ]
    }
   ],
   "source": [
    "# install sdv (synthetic data vault) which will be used later to generate more data from existing california housing dataset\n",
    "import sys\n",
    "\n",
    "!{sys.executable} -m pip install \"sdv\""
   ]
  },
  {
   "cell_type": "code",
   "execution_count": 5,
   "metadata": {},
   "outputs": [
    {
     "data": {
      "text/plain": [
       "'0.24.2'"
      ]
     },
     "execution_count": 5,
     "metadata": {},
     "output_type": "execute_result"
    }
   ],
   "source": [
    "# check sklearn version greater than 0.23\n",
    "import sklearn\n",
    "sklearn.__version__"
   ]
  },
  {
   "cell_type": "code",
   "execution_count": 6,
   "metadata": {},
   "outputs": [
    {
     "data": {
      "text/plain": [
       "'0.13.1'"
      ]
     },
     "execution_count": 6,
     "metadata": {},
     "output_type": "execute_result"
    }
   ],
   "source": [
    "import sdv\n",
    "sdv.__version__"
   ]
  },
  {
   "cell_type": "code",
   "execution_count": 343,
   "metadata": {},
   "outputs": [],
   "source": [
    "# import libraries\n",
    "import os\n",
    "from sklearn.datasets import fetch_california_housing\n",
    "import time\n",
    "import boto3\n",
    "import numpy as np\n",
    "import pandas as pd\n",
    "from sklearn.model_selection import train_test_split\n",
    "import sagemaker\n",
    "from sagemaker import get_execution_role"
   ]
  },
  {
   "cell_type": "code",
   "execution_count": 344,
   "metadata": {},
   "outputs": [
    {
     "data": {
      "text/plain": [
       "'sagemaker-us-east-2-670488263423'"
      ]
     },
     "execution_count": 344,
     "metadata": {},
     "output_type": "execute_result"
    }
   ],
   "source": [
    "prefix = 'california_housing'\n",
    "role = get_execution_role()\n",
    "bucket = sagemaker.Session(boto3.Session()).default_bucket()\n",
    "bucket"
   ]
  },
  {
   "cell_type": "code",
   "execution_count": 345,
   "metadata": {},
   "outputs": [],
   "source": [
    "data_dir = os.path.join(os.getcwd(), \"data\")\n",
    "os.makedirs(data_dir, exist_ok=True)\n",
    "\n",
    "raw_dir = os.path.join(os.getcwd(), \"data/raw\")\n",
    "os.makedirs(raw_dir, exist_ok=True)"
   ]
  },
  {
   "cell_type": "code",
   "execution_count": 346,
   "metadata": {},
   "outputs": [],
   "source": [
    "data = fetch_california_housing(data_home=raw_dir, download_if_missing=True, return_X_y=False, as_frame=True)"
   ]
  },
  {
   "cell_type": "code",
   "execution_count": 347,
   "metadata": {},
   "outputs": [
    {
     "name": "stdout",
     "output_type": "stream",
     "text": [
      ".. _california_housing_dataset:\n",
      "\n",
      "California Housing dataset\n",
      "--------------------------\n",
      "\n",
      "**Data Set Characteristics:**\n",
      "\n",
      "    :Number of Instances: 20640\n",
      "\n",
      "    :Number of Attributes: 8 numeric, predictive attributes and the target\n",
      "\n",
      "    :Attribute Information:\n",
      "        - MedInc        median income in block\n",
      "        - HouseAge      median house age in block\n",
      "        - AveRooms      average number of rooms\n",
      "        - AveBedrms     average number of bedrooms\n",
      "        - Population    block population\n",
      "        - AveOccup      average house occupancy\n",
      "        - Latitude      house block latitude\n",
      "        - Longitude     house block longitude\n",
      "\n",
      "    :Missing Attribute Values: None\n",
      "\n",
      "This dataset was obtained from the StatLib repository.\n",
      "http://lib.stat.cmu.edu/datasets/\n",
      "\n",
      "The target variable is the median house value for California districts.\n",
      "\n",
      "This dataset was derived from the 1990 U.S. census, using one row per census\n",
      "block group. A block group is the smallest geographical unit for which the U.S.\n",
      "Census Bureau publishes sample data (a block group typically has a population\n",
      "of 600 to 3,000 people).\n",
      "\n",
      "It can be downloaded/loaded using the\n",
      ":func:`sklearn.datasets.fetch_california_housing` function.\n",
      "\n",
      ".. topic:: References\n",
      "\n",
      "    - Pace, R. Kelley and Ronald Barry, Sparse Spatial Autoregressions,\n",
      "      Statistics and Probability Letters, 33 (1997) 291-297\n",
      "\n"
     ]
    }
   ],
   "source": [
    "# data description\n",
    "print(data.DESCR)"
   ]
  },
  {
   "cell_type": "code",
   "execution_count": 348,
   "metadata": {},
   "outputs": [
    {
     "name": "stdout",
     "output_type": "stream",
     "text": [
      "['MedInc', 'HouseAge', 'AveRooms', 'AveBedrms', 'Population', 'AveOccup', 'Latitude', 'Longitude']\n"
     ]
    }
   ],
   "source": [
    "# dataset features\n",
    "columns = data.feature_names\n",
    "print(columns)"
   ]
  },
  {
   "cell_type": "code",
   "execution_count": 349,
   "metadata": {},
   "outputs": [
    {
     "data": {
      "text/html": [
       "<div>\n",
       "<style scoped>\n",
       "    .dataframe tbody tr th:only-of-type {\n",
       "        vertical-align: middle;\n",
       "    }\n",
       "\n",
       "    .dataframe tbody tr th {\n",
       "        vertical-align: top;\n",
       "    }\n",
       "\n",
       "    .dataframe thead th {\n",
       "        text-align: right;\n",
       "    }\n",
       "</style>\n",
       "<table border=\"1\" class=\"dataframe\">\n",
       "  <thead>\n",
       "    <tr style=\"text-align: right;\">\n",
       "      <th></th>\n",
       "      <th>MedInc</th>\n",
       "      <th>HouseAge</th>\n",
       "      <th>AveRooms</th>\n",
       "      <th>AveBedrms</th>\n",
       "      <th>Population</th>\n",
       "      <th>AveOccup</th>\n",
       "      <th>Latitude</th>\n",
       "      <th>Longitude</th>\n",
       "    </tr>\n",
       "  </thead>\n",
       "  <tbody>\n",
       "    <tr>\n",
       "      <th>0</th>\n",
       "      <td>8.3252</td>\n",
       "      <td>41.0</td>\n",
       "      <td>6.984127</td>\n",
       "      <td>1.023810</td>\n",
       "      <td>322.0</td>\n",
       "      <td>2.555556</td>\n",
       "      <td>37.88</td>\n",
       "      <td>-122.23</td>\n",
       "    </tr>\n",
       "    <tr>\n",
       "      <th>1</th>\n",
       "      <td>8.3014</td>\n",
       "      <td>21.0</td>\n",
       "      <td>6.238137</td>\n",
       "      <td>0.971880</td>\n",
       "      <td>2401.0</td>\n",
       "      <td>2.109842</td>\n",
       "      <td>37.86</td>\n",
       "      <td>-122.22</td>\n",
       "    </tr>\n",
       "    <tr>\n",
       "      <th>2</th>\n",
       "      <td>7.2574</td>\n",
       "      <td>52.0</td>\n",
       "      <td>8.288136</td>\n",
       "      <td>1.073446</td>\n",
       "      <td>496.0</td>\n",
       "      <td>2.802260</td>\n",
       "      <td>37.85</td>\n",
       "      <td>-122.24</td>\n",
       "    </tr>\n",
       "    <tr>\n",
       "      <th>3</th>\n",
       "      <td>5.6431</td>\n",
       "      <td>52.0</td>\n",
       "      <td>5.817352</td>\n",
       "      <td>1.073059</td>\n",
       "      <td>558.0</td>\n",
       "      <td>2.547945</td>\n",
       "      <td>37.85</td>\n",
       "      <td>-122.25</td>\n",
       "    </tr>\n",
       "    <tr>\n",
       "      <th>4</th>\n",
       "      <td>3.8462</td>\n",
       "      <td>52.0</td>\n",
       "      <td>6.281853</td>\n",
       "      <td>1.081081</td>\n",
       "      <td>565.0</td>\n",
       "      <td>2.181467</td>\n",
       "      <td>37.85</td>\n",
       "      <td>-122.25</td>\n",
       "    </tr>\n",
       "    <tr>\n",
       "      <th>5</th>\n",
       "      <td>4.0368</td>\n",
       "      <td>52.0</td>\n",
       "      <td>4.761658</td>\n",
       "      <td>1.103627</td>\n",
       "      <td>413.0</td>\n",
       "      <td>2.139896</td>\n",
       "      <td>37.85</td>\n",
       "      <td>-122.25</td>\n",
       "    </tr>\n",
       "    <tr>\n",
       "      <th>6</th>\n",
       "      <td>3.6591</td>\n",
       "      <td>52.0</td>\n",
       "      <td>4.931907</td>\n",
       "      <td>0.951362</td>\n",
       "      <td>1094.0</td>\n",
       "      <td>2.128405</td>\n",
       "      <td>37.84</td>\n",
       "      <td>-122.25</td>\n",
       "    </tr>\n",
       "    <tr>\n",
       "      <th>7</th>\n",
       "      <td>3.1200</td>\n",
       "      <td>52.0</td>\n",
       "      <td>4.797527</td>\n",
       "      <td>1.061824</td>\n",
       "      <td>1157.0</td>\n",
       "      <td>1.788253</td>\n",
       "      <td>37.84</td>\n",
       "      <td>-122.25</td>\n",
       "    </tr>\n",
       "    <tr>\n",
       "      <th>8</th>\n",
       "      <td>2.0804</td>\n",
       "      <td>42.0</td>\n",
       "      <td>4.294118</td>\n",
       "      <td>1.117647</td>\n",
       "      <td>1206.0</td>\n",
       "      <td>2.026891</td>\n",
       "      <td>37.84</td>\n",
       "      <td>-122.26</td>\n",
       "    </tr>\n",
       "    <tr>\n",
       "      <th>9</th>\n",
       "      <td>3.6912</td>\n",
       "      <td>52.0</td>\n",
       "      <td>4.970588</td>\n",
       "      <td>0.990196</td>\n",
       "      <td>1551.0</td>\n",
       "      <td>2.172269</td>\n",
       "      <td>37.84</td>\n",
       "      <td>-122.25</td>\n",
       "    </tr>\n",
       "  </tbody>\n",
       "</table>\n",
       "</div>"
      ],
      "text/plain": [
       "   MedInc  HouseAge  AveRooms  AveBedrms  Population  AveOccup  Latitude  \\\n",
       "0  8.3252      41.0  6.984127   1.023810       322.0  2.555556     37.88   \n",
       "1  8.3014      21.0  6.238137   0.971880      2401.0  2.109842     37.86   \n",
       "2  7.2574      52.0  8.288136   1.073446       496.0  2.802260     37.85   \n",
       "3  5.6431      52.0  5.817352   1.073059       558.0  2.547945     37.85   \n",
       "4  3.8462      52.0  6.281853   1.081081       565.0  2.181467     37.85   \n",
       "5  4.0368      52.0  4.761658   1.103627       413.0  2.139896     37.85   \n",
       "6  3.6591      52.0  4.931907   0.951362      1094.0  2.128405     37.84   \n",
       "7  3.1200      52.0  4.797527   1.061824      1157.0  1.788253     37.84   \n",
       "8  2.0804      42.0  4.294118   1.117647      1206.0  2.026891     37.84   \n",
       "9  3.6912      52.0  4.970588   0.990196      1551.0  2.172269     37.84   \n",
       "\n",
       "   Longitude  \n",
       "0    -122.23  \n",
       "1    -122.22  \n",
       "2    -122.24  \n",
       "3    -122.25  \n",
       "4    -122.25  \n",
       "5    -122.25  \n",
       "6    -122.25  \n",
       "7    -122.25  \n",
       "8    -122.26  \n",
       "9    -122.25  "
      ]
     },
     "execution_count": 349,
     "metadata": {},
     "output_type": "execute_result"
    }
   ],
   "source": [
    "# actual dataset\n",
    "df_data = data.data\n",
    "df_data.head(10)"
   ]
  },
  {
   "cell_type": "code",
   "execution_count": 350,
   "metadata": {},
   "outputs": [
    {
     "data": {
      "text/plain": [
       "MedInc        float64\n",
       "HouseAge      float64\n",
       "AveRooms      float64\n",
       "AveBedrms     float64\n",
       "Population      int32\n",
       "AveOccup      float64\n",
       "Latitude      float64\n",
       "Longitude     float64\n",
       "dtype: object"
      ]
     },
     "execution_count": 350,
     "metadata": {},
     "output_type": "execute_result"
    }
   ],
   "source": [
    "df_data.astype({'Population': 'int32'}).dtypes"
   ]
  },
  {
   "cell_type": "code",
   "execution_count": 351,
   "metadata": {},
   "outputs": [
    {
     "data": {
      "text/plain": [
       "0    4.526\n",
       "1    3.585\n",
       "2    3.521\n",
       "3    3.413\n",
       "4    3.422\n",
       "5    2.697\n",
       "6    2.992\n",
       "7    2.414\n",
       "8    2.267\n",
       "9    2.611\n",
       "Name: MedHouseVal, dtype: float64"
      ]
     },
     "execution_count": 351,
     "metadata": {},
     "output_type": "execute_result"
    }
   ],
   "source": [
    "# fetch labels -- The target variable is the median house value for California districts\n",
    "df_labels = data.target\n",
    "df_labels.head(10)"
   ]
  },
  {
   "cell_type": "code",
   "execution_count": 352,
   "metadata": {},
   "outputs": [
    {
     "data": {
      "text/plain": [
       "Index(['MedInc', 'HouseAge', 'AveRooms', 'AveBedrms', 'Population', 'AveOccup',\n",
       "       'Latitude', 'Longitude'],\n",
       "      dtype='object')"
      ]
     },
     "execution_count": 352,
     "metadata": {},
     "output_type": "execute_result"
    }
   ],
   "source": [
    "df_data.columns"
   ]
  },
  {
   "cell_type": "code",
   "execution_count": 353,
   "metadata": {},
   "outputs": [],
   "source": [
    "# add meaningful column names\n",
    "columns = [\n",
    "    \"medianIncome\",\n",
    "    \"medianHousingAge\",\n",
    "    \"avgNumRooms\",\n",
    "    \"avgNumBedrooms\",\n",
    "    \"population\",\n",
    "    \"avgHouseholdMembers\",\n",
    "    \"latitude\",\n",
    "    \"longitude\",\n",
    "]\n",
    "df_data.columns = columns"
   ]
  },
  {
   "cell_type": "code",
   "execution_count": 354,
   "metadata": {},
   "outputs": [
    {
     "data": {
      "text/plain": [
       "Index(['medianIncome', 'medianHousingAge', 'avgNumRooms', 'avgNumBedrooms',\n",
       "       'population', 'avgHouseholdMembers', 'latitude', 'longitude'],\n",
       "      dtype='object')"
      ]
     },
     "execution_count": 354,
     "metadata": {},
     "output_type": "execute_result"
    }
   ],
   "source": [
    "df_data.columns"
   ]
  },
  {
   "cell_type": "code",
   "execution_count": 355,
   "metadata": {},
   "outputs": [],
   "source": [
    "# adding the label pandas series to the dataframe, this will be used to generate synthetic data\n",
    "df_data['medianHouseValue'] = df_labels"
   ]
  },
  {
   "cell_type": "code",
   "execution_count": 356,
   "metadata": {},
   "outputs": [
    {
     "data": {
      "text/html": [
       "<div>\n",
       "<style scoped>\n",
       "    .dataframe tbody tr th:only-of-type {\n",
       "        vertical-align: middle;\n",
       "    }\n",
       "\n",
       "    .dataframe tbody tr th {\n",
       "        vertical-align: top;\n",
       "    }\n",
       "\n",
       "    .dataframe thead th {\n",
       "        text-align: right;\n",
       "    }\n",
       "</style>\n",
       "<table border=\"1\" class=\"dataframe\">\n",
       "  <thead>\n",
       "    <tr style=\"text-align: right;\">\n",
       "      <th></th>\n",
       "      <th>medianIncome</th>\n",
       "      <th>medianHousingAge</th>\n",
       "      <th>avgNumRooms</th>\n",
       "      <th>avgNumBedrooms</th>\n",
       "      <th>population</th>\n",
       "      <th>avgHouseholdMembers</th>\n",
       "      <th>latitude</th>\n",
       "      <th>longitude</th>\n",
       "      <th>medianHouseValue</th>\n",
       "    </tr>\n",
       "  </thead>\n",
       "  <tbody>\n",
       "    <tr>\n",
       "      <th>0</th>\n",
       "      <td>8.3252</td>\n",
       "      <td>41.0</td>\n",
       "      <td>6.984127</td>\n",
       "      <td>1.023810</td>\n",
       "      <td>322.0</td>\n",
       "      <td>2.555556</td>\n",
       "      <td>37.88</td>\n",
       "      <td>-122.23</td>\n",
       "      <td>4.526</td>\n",
       "    </tr>\n",
       "    <tr>\n",
       "      <th>1</th>\n",
       "      <td>8.3014</td>\n",
       "      <td>21.0</td>\n",
       "      <td>6.238137</td>\n",
       "      <td>0.971880</td>\n",
       "      <td>2401.0</td>\n",
       "      <td>2.109842</td>\n",
       "      <td>37.86</td>\n",
       "      <td>-122.22</td>\n",
       "      <td>3.585</td>\n",
       "    </tr>\n",
       "    <tr>\n",
       "      <th>2</th>\n",
       "      <td>7.2574</td>\n",
       "      <td>52.0</td>\n",
       "      <td>8.288136</td>\n",
       "      <td>1.073446</td>\n",
       "      <td>496.0</td>\n",
       "      <td>2.802260</td>\n",
       "      <td>37.85</td>\n",
       "      <td>-122.24</td>\n",
       "      <td>3.521</td>\n",
       "    </tr>\n",
       "    <tr>\n",
       "      <th>3</th>\n",
       "      <td>5.6431</td>\n",
       "      <td>52.0</td>\n",
       "      <td>5.817352</td>\n",
       "      <td>1.073059</td>\n",
       "      <td>558.0</td>\n",
       "      <td>2.547945</td>\n",
       "      <td>37.85</td>\n",
       "      <td>-122.25</td>\n",
       "      <td>3.413</td>\n",
       "    </tr>\n",
       "    <tr>\n",
       "      <th>4</th>\n",
       "      <td>3.8462</td>\n",
       "      <td>52.0</td>\n",
       "      <td>6.281853</td>\n",
       "      <td>1.081081</td>\n",
       "      <td>565.0</td>\n",
       "      <td>2.181467</td>\n",
       "      <td>37.85</td>\n",
       "      <td>-122.25</td>\n",
       "      <td>3.422</td>\n",
       "    </tr>\n",
       "    <tr>\n",
       "      <th>5</th>\n",
       "      <td>4.0368</td>\n",
       "      <td>52.0</td>\n",
       "      <td>4.761658</td>\n",
       "      <td>1.103627</td>\n",
       "      <td>413.0</td>\n",
       "      <td>2.139896</td>\n",
       "      <td>37.85</td>\n",
       "      <td>-122.25</td>\n",
       "      <td>2.697</td>\n",
       "    </tr>\n",
       "    <tr>\n",
       "      <th>6</th>\n",
       "      <td>3.6591</td>\n",
       "      <td>52.0</td>\n",
       "      <td>4.931907</td>\n",
       "      <td>0.951362</td>\n",
       "      <td>1094.0</td>\n",
       "      <td>2.128405</td>\n",
       "      <td>37.84</td>\n",
       "      <td>-122.25</td>\n",
       "      <td>2.992</td>\n",
       "    </tr>\n",
       "    <tr>\n",
       "      <th>7</th>\n",
       "      <td>3.1200</td>\n",
       "      <td>52.0</td>\n",
       "      <td>4.797527</td>\n",
       "      <td>1.061824</td>\n",
       "      <td>1157.0</td>\n",
       "      <td>1.788253</td>\n",
       "      <td>37.84</td>\n",
       "      <td>-122.25</td>\n",
       "      <td>2.414</td>\n",
       "    </tr>\n",
       "    <tr>\n",
       "      <th>8</th>\n",
       "      <td>2.0804</td>\n",
       "      <td>42.0</td>\n",
       "      <td>4.294118</td>\n",
       "      <td>1.117647</td>\n",
       "      <td>1206.0</td>\n",
       "      <td>2.026891</td>\n",
       "      <td>37.84</td>\n",
       "      <td>-122.26</td>\n",
       "      <td>2.267</td>\n",
       "    </tr>\n",
       "    <tr>\n",
       "      <th>9</th>\n",
       "      <td>3.6912</td>\n",
       "      <td>52.0</td>\n",
       "      <td>4.970588</td>\n",
       "      <td>0.990196</td>\n",
       "      <td>1551.0</td>\n",
       "      <td>2.172269</td>\n",
       "      <td>37.84</td>\n",
       "      <td>-122.25</td>\n",
       "      <td>2.611</td>\n",
       "    </tr>\n",
       "  </tbody>\n",
       "</table>\n",
       "</div>"
      ],
      "text/plain": [
       "   medianIncome  medianHousingAge  avgNumRooms  avgNumBedrooms  population  \\\n",
       "0        8.3252              41.0     6.984127        1.023810       322.0   \n",
       "1        8.3014              21.0     6.238137        0.971880      2401.0   \n",
       "2        7.2574              52.0     8.288136        1.073446       496.0   \n",
       "3        5.6431              52.0     5.817352        1.073059       558.0   \n",
       "4        3.8462              52.0     6.281853        1.081081       565.0   \n",
       "5        4.0368              52.0     4.761658        1.103627       413.0   \n",
       "6        3.6591              52.0     4.931907        0.951362      1094.0   \n",
       "7        3.1200              52.0     4.797527        1.061824      1157.0   \n",
       "8        2.0804              42.0     4.294118        1.117647      1206.0   \n",
       "9        3.6912              52.0     4.970588        0.990196      1551.0   \n",
       "\n",
       "   avgHouseholdMembers  latitude  longitude  medianHouseValue  \n",
       "0             2.555556     37.88    -122.23             4.526  \n",
       "1             2.109842     37.86    -122.22             3.585  \n",
       "2             2.802260     37.85    -122.24             3.521  \n",
       "3             2.547945     37.85    -122.25             3.413  \n",
       "4             2.181467     37.85    -122.25             3.422  \n",
       "5             2.139896     37.85    -122.25             2.697  \n",
       "6             2.128405     37.84    -122.25             2.992  \n",
       "7             1.788253     37.84    -122.25             2.414  \n",
       "8             2.026891     37.84    -122.26             2.267  \n",
       "9             2.172269     37.84    -122.25             2.611  "
      ]
     },
     "execution_count": 356,
     "metadata": {},
     "output_type": "execute_result"
    }
   ],
   "source": [
    "df_data.head(10)"
   ]
  },
  {
   "cell_type": "code",
   "execution_count": 357,
   "metadata": {},
   "outputs": [],
   "source": [
    "import matplotlib.pyplot as plt\n",
    "\n",
    "def plot_boxplot(data, title):\n",
    "    plt.figure(figsize =(5, 4))\n",
    "    plt.boxplot(data)\n",
    "    plt.title(title)\n",
    "    plt.show()"
   ]
  },
  {
   "cell_type": "code",
   "execution_count": 360,
   "metadata": {},
   "outputs": [],
   "source": [
    "df_data.drop(df_data[df_data['population'] > 3000].index, inplace = True)"
   ]
  },
  {
   "cell_type": "code",
   "execution_count": 362,
   "metadata": {},
   "outputs": [
    {
     "data": {
      "image/png": "[encoded data removed]",
      "text/plain": [
       "<Figure size 360x288 with 1 Axes>"
      ]
     },
     "metadata": {
      "needs_background": "light"
     },
     "output_type": "display_data"
    }
   ],
   "source": [
    "plot_boxplot(df_data.population, 'p')"
   ]
  },
  {
   "cell_type": "code",
   "execution_count": 363,
   "metadata": {},
   "outputs": [],
   "source": [
    "df_data.drop(df_data[df_data['avgNumRooms'] > 9].index, inplace = True)\n",
    "df_data.drop(df_data[df_data['avgNumRooms'] <= 1].index, inplace = True)"
   ]
  },
  {
   "cell_type": "code",
   "execution_count": 366,
   "metadata": {},
   "outputs": [
    {
     "data": {
      "image/png": "[encoded data removed]",
      "text/plain": [
       "<Figure size 360x288 with 1 Axes>"
      ]
     },
     "metadata": {
      "needs_background": "light"
     },
     "output_type": "display_data"
    }
   ],
   "source": [
    "plot_boxplot(df_data.avgNumRooms, 'rooms')"
   ]
  },
  {
   "cell_type": "code",
   "execution_count": 367,
   "metadata": {},
   "outputs": [],
   "source": [
    "df_data.drop(df_data[df_data['avgNumBedrooms'] > 1.25].index, inplace = True)\n",
    "df_data.drop(df_data[df_data['avgNumBedrooms'] < 1].index, inplace = True)"
   ]
  },
  {
   "cell_type": "code",
   "execution_count": 368,
   "metadata": {},
   "outputs": [
    {
     "data": {
      "image/png": "[encoded data removed]",
      "text/plain": [
       "<Figure size 360x288 with 1 Axes>"
      ]
     },
     "metadata": {
      "needs_background": "light"
     },
     "output_type": "display_data"
    }
   ],
   "source": [
    "plot_boxplot(df_data.avgNumBedrooms, 'bedrooms')"
   ]
  },
  {
   "cell_type": "code",
   "execution_count": 369,
   "metadata": {},
   "outputs": [],
   "source": [
    "df_data.drop(df_data[df_data['avgHouseholdMembers'] > 5].index, inplace = True)\n",
    "df_data.drop(df_data[df_data['avgHouseholdMembers'] < 1].index, inplace = True)"
   ]
  },
  {
   "cell_type": "code",
   "execution_count": 370,
   "metadata": {},
   "outputs": [
    {
     "data": {
      "image/png": "[encoded data removed]",
      "text/plain": [
       "<Figure size 360x288 with 1 Axes>"
      ]
     },
     "metadata": {
      "needs_background": "light"
     },
     "output_type": "display_data"
    }
   ],
   "source": [
    "plot_boxplot(df_data.avgHouseholdMembers, 'avgHouseholdMembers')"
   ]
  },
  {
   "cell_type": "code",
   "execution_count": 371,
   "metadata": {},
   "outputs": [
    {
     "data": {
      "image/png": "[encoded data removed]",
      "text/plain": [
       "<Figure size 360x288 with 1 Axes>"
      ]
     },
     "metadata": {
      "needs_background": "light"
     },
     "output_type": "display_data"
    }
   ],
   "source": [
    "plot_boxplot(df_data.medianHousingAge, 'medianHousingAge')"
   ]
  },
  {
   "cell_type": "code",
   "execution_count": 372,
   "metadata": {},
   "outputs": [
    {
     "data": {
      "image/png": "[encoded data removed]",
      "text/plain": [
       "<Figure size 360x288 with 1 Axes>"
      ]
     },
     "metadata": {
      "needs_background": "light"
     },
     "output_type": "display_data"
    }
   ],
   "source": [
    "df_data.drop(df_data[df_data['medianIncome'] > 7].index, inplace = True)\n",
    "df_data.drop(df_data[df_data['medianIncome'] < 1].index, inplace = True)\n",
    "plot_boxplot(df_data.medianIncome, 'medianIncome')"
   ]
  },
  {
   "cell_type": "code",
   "execution_count": 375,
   "metadata": {},
   "outputs": [
    {
     "data": {
      "text/plain": [
       "medianIncome           0\n",
       "medianHousingAge       0\n",
       "avgNumRooms            0\n",
       "avgNumBedrooms         0\n",
       "population             0\n",
       "avgHouseholdMembers    0\n",
       "latitude               0\n",
       "longitude              0\n",
       "medianHouseValue       0\n",
       "dtype: int64"
      ]
     },
     "execution_count": 375,
     "metadata": {},
     "output_type": "execute_result"
    }
   ],
   "source": [
    "df_data.isna().sum()"
   ]
  },
  {
   "cell_type": "markdown",
   "metadata": {},
   "source": [
    "## Generate synthetic data from the California Housing Dataset using SDV (Synthetic Data Vault)\n",
    "We will use `TVAE` to learn this data and then sample synthetic data. In order to do this you will need to:\n",
    "\n",
    "Import the `sdv.tabular.TVAE class` and create an instance of it.\n",
    "- Call its fit method passing our table.\n",
    "- Call its sample method indicating the number of synthetic rows that you want to generate."
   ]
  },
  {
   "cell_type": "code",
   "execution_count": 376,
   "metadata": {
    "scrolled": true
   },
   "outputs": [
    {
     "name": "stderr",
     "output_type": "stream",
     "text": [
      "INFO:sdv.metadata.table:Fitting table None metadata\n",
      "INFO:sdv.metadata.table:Anonymizing table None\n",
      "INFO:sdv.metadata.table:Fitting constraints for table None\n",
      "INFO:sdv.metadata.table:Fitting HyperTransformer for table None\n",
      "/opt/conda/lib/python3.6/site-packages/sklearn/mixture/_base.py:269: ConvergenceWarning: Initialization 1 did not converge. Try different init parameters, or increase max_iter, tol or check for degenerate data.\n",
      "  % (init + 1), ConvergenceWarning)\n",
      "/opt/conda/lib/python3.6/site-packages/sklearn/mixture/_base.py:269: ConvergenceWarning: Initialization 1 did not converge. Try different init parameters, or increase max_iter, tol or check for degenerate data.\n",
      "  % (init + 1), ConvergenceWarning)\n",
      "/opt/conda/lib/python3.6/site-packages/sklearn/mixture/_base.py:269: ConvergenceWarning: Initialization 1 did not converge. Try different init parameters, or increase max_iter, tol or check for degenerate data.\n",
      "  % (init + 1), ConvergenceWarning)\n",
      "/opt/conda/lib/python3.6/site-packages/sklearn/mixture/_base.py:269: ConvergenceWarning: Initialization 1 did not converge. Try different init parameters, or increase max_iter, tol or check for degenerate data.\n",
      "  % (init + 1), ConvergenceWarning)\n",
      "/opt/conda/lib/python3.6/site-packages/sklearn/mixture/_base.py:269: ConvergenceWarning: Initialization 1 did not converge. Try different init parameters, or increase max_iter, tol or check for degenerate data.\n",
      "  % (init + 1), ConvergenceWarning)\n",
      "/opt/conda/lib/python3.6/site-packages/sklearn/mixture/_base.py:269: ConvergenceWarning: Initialization 1 did not converge. Try different init parameters, or increase max_iter, tol or check for degenerate data.\n",
      "  % (init + 1), ConvergenceWarning)\n",
      "/opt/conda/lib/python3.6/site-packages/sklearn/mixture/_base.py:269: ConvergenceWarning: Initialization 1 did not converge. Try different init parameters, or increase max_iter, tol or check for degenerate data.\n",
      "  % (init + 1), ConvergenceWarning)\n",
      "/opt/conda/lib/python3.6/site-packages/sklearn/mixture/_base.py:269: ConvergenceWarning: Initialization 1 did not converge. Try different init parameters, or increase max_iter, tol or check for degenerate data.\n",
      "  % (init + 1), ConvergenceWarning)\n",
      "/opt/conda/lib/python3.6/site-packages/sklearn/mixture/_base.py:269: ConvergenceWarning: Initialization 1 did not converge. Try different init parameters, or increase max_iter, tol or check for degenerate data.\n",
      "  % (init + 1), ConvergenceWarning)\n"
     ]
    }
   ],
   "source": [
    "from sdv.tabular import TVAE\n",
    "\n",
    "model = TVAE(rounding=2)\n",
    "model.fit(df_data)"
   ]
  },
  {
   "cell_type": "code",
   "execution_count": 377,
   "metadata": {},
   "outputs": [],
   "source": [
    "model_dir = os.path.join(os.getcwd(), \"model\")\n",
    "os.makedirs(model_dir, exist_ok=True)"
   ]
  },
  {
   "cell_type": "code",
   "execution_count": 378,
   "metadata": {},
   "outputs": [],
   "source": [
    "# save the model for future use, so that we don't have retrain the model, we can then directly load the model to generate new data.\n",
    "model.save(f'{model_dir}/tvae_model.pkl')"
   ]
  },
  {
   "cell_type": "markdown",
   "metadata": {},
   "source": [
    "### Generate synthetic data from the model\n",
    "Once the modeling has finished you are ready to generate new synthetic data by calling the sample method from your model passing the number of rows that we want to generate."
   ]
  },
  {
   "cell_type": "code",
   "execution_count": 379,
   "metadata": {},
   "outputs": [],
   "source": [
    "# load model\n",
    "from sdv.tabular import TVAE\n",
    "\n",
    "model = TVAE.load(f'{model_dir}/tvae_model.pkl')"
   ]
  },
  {
   "cell_type": "code",
   "execution_count": 380,
   "metadata": {},
   "outputs": [
    {
     "data": {
      "text/html": [
       "<div>\n",
       "<style scoped>\n",
       "    .dataframe tbody tr th:only-of-type {\n",
       "        vertical-align: middle;\n",
       "    }\n",
       "\n",
       "    .dataframe tbody tr th {\n",
       "        vertical-align: top;\n",
       "    }\n",
       "\n",
       "    .dataframe thead th {\n",
       "        text-align: right;\n",
       "    }\n",
       "</style>\n",
       "<table border=\"1\" class=\"dataframe\">\n",
       "  <thead>\n",
       "    <tr style=\"text-align: right;\">\n",
       "      <th></th>\n",
       "      <th>medianIncome</th>\n",
       "      <th>medianHousingAge</th>\n",
       "      <th>avgNumRooms</th>\n",
       "      <th>avgNumBedrooms</th>\n",
       "      <th>population</th>\n",
       "      <th>avgHouseholdMembers</th>\n",
       "      <th>latitude</th>\n",
       "      <th>longitude</th>\n",
       "      <th>medianHouseValue</th>\n",
       "    </tr>\n",
       "  </thead>\n",
       "  <tbody>\n",
       "    <tr>\n",
       "      <th>0</th>\n",
       "      <td>3.05</td>\n",
       "      <td>33.02</td>\n",
       "      <td>4.20</td>\n",
       "      <td>1.02</td>\n",
       "      <td>490.50</td>\n",
       "      <td>2.09</td>\n",
       "      <td>37.29</td>\n",
       "      <td>-122.15</td>\n",
       "      <td>1.72</td>\n",
       "    </tr>\n",
       "    <tr>\n",
       "      <th>1</th>\n",
       "      <td>4.92</td>\n",
       "      <td>18.22</td>\n",
       "      <td>5.56</td>\n",
       "      <td>1.08</td>\n",
       "      <td>876.93</td>\n",
       "      <td>2.97</td>\n",
       "      <td>32.76</td>\n",
       "      <td>-118.24</td>\n",
       "      <td>2.11</td>\n",
       "    </tr>\n",
       "    <tr>\n",
       "      <th>2</th>\n",
       "      <td>3.85</td>\n",
       "      <td>15.35</td>\n",
       "      <td>5.55</td>\n",
       "      <td>1.07</td>\n",
       "      <td>667.03</td>\n",
       "      <td>2.88</td>\n",
       "      <td>37.21</td>\n",
       "      <td>-121.42</td>\n",
       "      <td>1.18</td>\n",
       "    </tr>\n",
       "    <tr>\n",
       "      <th>3</th>\n",
       "      <td>3.84</td>\n",
       "      <td>25.59</td>\n",
       "      <td>5.23</td>\n",
       "      <td>1.02</td>\n",
       "      <td>909.95</td>\n",
       "      <td>2.39</td>\n",
       "      <td>34.25</td>\n",
       "      <td>-119.32</td>\n",
       "      <td>2.60</td>\n",
       "    </tr>\n",
       "    <tr>\n",
       "      <th>4</th>\n",
       "      <td>2.69</td>\n",
       "      <td>38.01</td>\n",
       "      <td>4.45</td>\n",
       "      <td>1.05</td>\n",
       "      <td>1834.59</td>\n",
       "      <td>3.77</td>\n",
       "      <td>33.40</td>\n",
       "      <td>-118.08</td>\n",
       "      <td>1.27</td>\n",
       "    </tr>\n",
       "  </tbody>\n",
       "</table>\n",
       "</div>"
      ],
      "text/plain": [
       "   medianIncome  medianHousingAge  avgNumRooms  avgNumBedrooms  population  \\\n",
       "0          3.05             33.02         4.20            1.02      490.50   \n",
       "1          4.92             18.22         5.56            1.08      876.93   \n",
       "2          3.85             15.35         5.55            1.07      667.03   \n",
       "3          3.84             25.59         5.23            1.02      909.95   \n",
       "4          2.69             38.01         4.45            1.05     1834.59   \n",
       "\n",
       "   avgHouseholdMembers  latitude  longitude  medianHouseValue  \n",
       "0                 2.09     37.29    -122.15              1.72  \n",
       "1                 2.97     32.76    -118.24              2.11  \n",
       "2                 2.88     37.21    -121.42              1.18  \n",
       "3                 2.39     34.25    -119.32              2.60  \n",
       "4                 3.77     33.40    -118.08              1.27  "
      ]
     },
     "execution_count": 380,
     "metadata": {},
     "output_type": "execute_result"
    }
   ],
   "source": [
    "# generate small sample data to see if the data is generated correctly\n",
    "synthetic_data = model.sample(200)\n",
    "synthetic_data.head()"
   ]
  },
  {
   "cell_type": "code",
   "execution_count": 381,
   "metadata": {},
   "outputs": [
    {
     "data": {
      "text/html": [
       "<div>\n",
       "<style scoped>\n",
       "    .dataframe tbody tr th:only-of-type {\n",
       "        vertical-align: middle;\n",
       "    }\n",
       "\n",
       "    .dataframe tbody tr th {\n",
       "        vertical-align: top;\n",
       "    }\n",
       "\n",
       "    .dataframe thead th {\n",
       "        text-align: right;\n",
       "    }\n",
       "</style>\n",
       "<table border=\"1\" class=\"dataframe\">\n",
       "  <thead>\n",
       "    <tr style=\"text-align: right;\">\n",
       "      <th></th>\n",
       "      <th>medianIncome</th>\n",
       "      <th>medianHousingAge</th>\n",
       "      <th>avgNumRooms</th>\n",
       "      <th>avgNumBedrooms</th>\n",
       "      <th>population</th>\n",
       "      <th>avgHouseholdMembers</th>\n",
       "      <th>latitude</th>\n",
       "      <th>longitude</th>\n",
       "      <th>medianHouseValue</th>\n",
       "    </tr>\n",
       "  </thead>\n",
       "  <tbody>\n",
       "    <tr>\n",
       "      <th>0</th>\n",
       "      <td>4.25</td>\n",
       "      <td>27.19</td>\n",
       "      <td>6.36</td>\n",
       "      <td>1.05</td>\n",
       "      <td>920.45</td>\n",
       "      <td>2.63</td>\n",
       "      <td>38.60</td>\n",
       "      <td>-122.37</td>\n",
       "      <td>2.24</td>\n",
       "    </tr>\n",
       "    <tr>\n",
       "      <th>1</th>\n",
       "      <td>2.29</td>\n",
       "      <td>28.93</td>\n",
       "      <td>4.36</td>\n",
       "      <td>1.08</td>\n",
       "      <td>663.11</td>\n",
       "      <td>1.43</td>\n",
       "      <td>33.92</td>\n",
       "      <td>-118.18</td>\n",
       "      <td>2.78</td>\n",
       "    </tr>\n",
       "    <tr>\n",
       "      <th>2</th>\n",
       "      <td>5.92</td>\n",
       "      <td>18.02</td>\n",
       "      <td>6.82</td>\n",
       "      <td>1.03</td>\n",
       "      <td>1721.77</td>\n",
       "      <td>2.81</td>\n",
       "      <td>32.90</td>\n",
       "      <td>-116.95</td>\n",
       "      <td>2.38</td>\n",
       "    </tr>\n",
       "    <tr>\n",
       "      <th>3</th>\n",
       "      <td>2.02</td>\n",
       "      <td>34.13</td>\n",
       "      <td>5.62</td>\n",
       "      <td>1.08</td>\n",
       "      <td>1067.84</td>\n",
       "      <td>2.89</td>\n",
       "      <td>33.00</td>\n",
       "      <td>-117.09</td>\n",
       "      <td>0.71</td>\n",
       "    </tr>\n",
       "    <tr>\n",
       "      <th>4</th>\n",
       "      <td>2.82</td>\n",
       "      <td>29.63</td>\n",
       "      <td>2.70</td>\n",
       "      <td>1.07</td>\n",
       "      <td>884.81</td>\n",
       "      <td>1.56</td>\n",
       "      <td>33.95</td>\n",
       "      <td>-118.37</td>\n",
       "      <td>4.11</td>\n",
       "    </tr>\n",
       "  </tbody>\n",
       "</table>\n",
       "</div>"
      ],
      "text/plain": [
       "   medianIncome  medianHousingAge  avgNumRooms  avgNumBedrooms  population  \\\n",
       "0          4.25             27.19         6.36            1.05      920.45   \n",
       "1          2.29             28.93         4.36            1.08      663.11   \n",
       "2          5.92             18.02         6.82            1.03     1721.77   \n",
       "3          2.02             34.13         5.62            1.08     1067.84   \n",
       "4          2.82             29.63         2.70            1.07      884.81   \n",
       "\n",
       "   avgHouseholdMembers  latitude  longitude  medianHouseValue  \n",
       "0                 2.63     38.60    -122.37              2.24  \n",
       "1                 1.43     33.92    -118.18              2.78  \n",
       "2                 2.81     32.90    -116.95              2.38  \n",
       "3                 2.89     33.00    -117.09              0.71  \n",
       "4                 1.56     33.95    -118.37              4.11  "
      ]
     },
     "execution_count": 381,
     "metadata": {},
     "output_type": "execute_result"
    }
   ],
   "source": [
    "# generate large dataset with 1 million rows from the TVAE model that we trained\n",
    "synthetic_data = model.sample(1000000)\n",
    "synthetic_data.head()"
   ]
  },
  {
   "cell_type": "code",
   "execution_count": 382,
   "metadata": {},
   "outputs": [
    {
     "data": {
      "text/plain": [
       "(1000000, 9)"
      ]
     },
     "execution_count": 382,
     "metadata": {},
     "output_type": "execute_result"
    }
   ],
   "source": [
    "synthetic_data.shape"
   ]
  },
  {
   "cell_type": "code",
   "execution_count": 383,
   "metadata": {},
   "outputs": [],
   "source": [
    "# save the data frame in the parquet format and upload to s3 bucket\n",
    "sess = boto3.Session()\n",
    "sagemaker_session = sagemaker.Session(boto_session=sess)\n",
    "\n",
    "synthetic_data.to_parquet('data/raw/data.parquet.gzip',\n",
    "              compression='gzip')\n"
   ]
  },
  {
   "cell_type": "code",
   "execution_count": 384,
   "metadata": {},
   "outputs": [
    {
     "name": "stdout",
     "output_type": "stream",
     "text": [
      "s3://sagemaker-us-east-2-670488263423/california_housing/data/raw/data.parquet.gzip\n"
     ]
    }
   ],
   "source": [
    "rawdata_s3_prefix = \"{}/data/raw\".format(prefix)\n",
    "raw_s3 = sagemaker_session.upload_data(path=\"./data/raw/data.parquet.gzip\", key_prefix=rawdata_s3_prefix)\n",
    "print(raw_s3)"
   ]
  }
 ],
 "metadata": {
  "instance_type": "ml.t3.medium",
  "kernelspec": {
   "display_name": "Python 3 (PyTorch 1.8 Python 3.6 CPU Optimized)",
   "language": "python",
   "name": "python3__SAGEMAKER_INTERNAL__arn:aws:sagemaker:us-east-2:429704687514:image/1.8.1-cpu-py36"
  },
  "language_info": {
   "codemirror_mode": {
    "name": "ipython",
    "version": 3
   },
   "file_extension": ".py",
   "mimetype": "text/x-python",
   "name": "python",
   "nbconvert_exporter": "python",
   "pygments_lexer": "ipython3",
   "version": "3.6.13"
  }
 },
 "nbformat": 4,
 "nbformat_minor": 4
}
